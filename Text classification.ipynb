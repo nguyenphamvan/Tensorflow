{
 "cells": [
  {
   "cell_type": "code",
   "execution_count": 1,
   "metadata": {},
   "outputs": [
    {
     "name": "stderr",
     "output_type": "stream",
     "text": [
      "WARNING: Logging before flag parsing goes to stderr.\n",
      "W0807 23:45:03.672690  8392 __init__.py:687] \n",
      "\n",
      "  TensorFlow's `tf-nightly` package will soon be updated to TensorFlow 2.0.\n",
      "\n",
      "  Please upgrade your code to TensorFlow 2.0:\n",
      "    * https://www.tensorflow.org/beta/guide/migration_guide\n",
      "\n",
      "  Or install the latest stable TensorFlow 1.X release:\n",
      "    * `pip install -U \"tensorflow==1.*\"`\n",
      "\n",
      "  Otherwise your code may be broken by the change.\n",
      "\n",
      "  \n"
     ]
    },
    {
     "name": "stdout",
     "output_type": "stream",
     "text": [
      "1.15.0-dev20190803\n"
     ]
    }
   ],
   "source": [
    "from __future__ import absolute_import, division, print_function, unicode_literals\n",
    "\n",
    "import tensorflow as tf\n",
    "from tensorflow import keras\n",
    "\n",
    "import numpy as np\n",
    "\n",
    "print(tf.__version__)"
   ]
  },
  {
   "cell_type": "markdown",
   "metadata": {},
   "source": [
    "# Download the IMDB dataset"
   ]
  },
  {
   "cell_type": "code",
   "execution_count": 2,
   "metadata": {},
   "outputs": [],
   "source": [
    "imdb = keras.datasets.imdb\n",
    "\n",
    "(train_data, train_labels), (test_data, test_labels) = imdb.load_data(num_words=10000)"
   ]
  },
  {
   "cell_type": "markdown",
   "metadata": {},
   "source": [
    "# Explore the data"
   ]
  },
  {
   "cell_type": "code",
   "execution_count": 3,
   "metadata": {},
   "outputs": [
    {
     "name": "stdout",
     "output_type": "stream",
     "text": [
      "Training entries: 25000, labels: 25000\n"
     ]
    }
   ],
   "source": [
    "print(\"Training entries: {}, labels: {}\".format(len(train_data), len(train_labels)))"
   ]
  },
  {
   "cell_type": "code",
   "execution_count": 4,
   "metadata": {},
   "outputs": [
    {
     "name": "stdout",
     "output_type": "stream",
     "text": [
      "[1, 14, 22, 16, 43, 530, 973, 1622, 1385, 65, 458, 4468, 66, 3941, 4, 173, 36, 256, 5, 25, 100, 43, 838, 112, 50, 670, 2, 9, 35, 480, 284, 5, 150, 4, 172, 112, 167, 2, 336, 385, 39, 4, 172, 4536, 1111, 17, 546, 38, 13, 447, 4, 192, 50, 16, 6, 147, 2025, 19, 14, 22, 4, 1920, 4613, 469, 4, 22, 71, 87, 12, 16, 43, 530, 38, 76, 15, 13, 1247, 4, 22, 17, 515, 17, 12, 16, 626, 18, 2, 5, 62, 386, 12, 8, 316, 8, 106, 5, 4, 2223, 5244, 16, 480, 66, 3785, 33, 4, 130, 12, 16, 38, 619, 5, 25, 124, 51, 36, 135, 48, 25, 1415, 33, 6, 22, 12, 215, 28, 77, 52, 5, 14, 407, 16, 82, 2, 8, 4, 107, 117, 5952, 15, 256, 4, 2, 7, 3766, 5, 723, 36, 71, 43, 530, 476, 26, 400, 317, 46, 7, 4, 2, 1029, 13, 104, 88, 4, 381, 15, 297, 98, 32, 2071, 56, 26, 141, 6, 194, 7486, 18, 4, 226, 22, 21, 134, 476, 26, 480, 5, 144, 30, 5535, 18, 51, 36, 28, 224, 92, 25, 104, 4, 226, 65, 16, 38, 1334, 88, 12, 16, 283, 5, 16, 4472, 113, 103, 32, 15, 16, 5345, 19, 178, 32]\n"
     ]
    }
   ],
   "source": [
    "print(train_data[0])"
   ]
  },
  {
   "cell_type": "code",
   "execution_count": 5,
   "metadata": {},
   "outputs": [
    {
     "data": {
      "text/plain": [
       "(218, 189)"
      ]
     },
     "execution_count": 5,
     "metadata": {},
     "output_type": "execute_result"
    }
   ],
   "source": [
    "len(train_data[0]), len(train_data[1])"
   ]
  },
  {
   "cell_type": "markdown",
   "metadata": {},
   "source": [
    "# Convert the integers back to words"
   ]
  },
  {
   "cell_type": "code",
   "execution_count": 6,
   "metadata": {},
   "outputs": [],
   "source": [
    "# A dictionary mapping words to an integer index\n",
    "word_index = imdb.get_word_index()\n",
    "\n",
    "# The first indices are reserved\n",
    "word_index = {k:(v+3) for k,v in word_index.items()}\n",
    "word_index[\"<PAD>\"] = 0\n",
    "word_index[\"<START>\"] = 1\n",
    "word_index[\"<UNK>\"] = 2  # unknown\n",
    "word_index[\"<UNUSED>\"] = 3\n",
    "\n",
    "reverse_word_index = dict([(value, key) for (key, value) in word_index.items()])\n",
    "\n",
    "def decode_review(text):\n",
    "    return ' '.join([reverse_word_index.get(i, '?') for i in text])"
   ]
  },
  {
   "cell_type": "code",
   "execution_count": 7,
   "metadata": {},
   "outputs": [
    {
     "data": {
      "text/plain": [
       "\"<START> this film was just brilliant casting location scenery story direction everyone's really suited the part they played and you could just imagine being there robert <UNK> is an amazing actor and now the same being director <UNK> father came from the same scottish island as myself so i loved the fact there was a real connection with this film the witty remarks throughout the film were great it was just brilliant so much that i bought the film as soon as it was released for <UNK> and would recommend it to everyone to watch and the fly fishing was amazing really cried at the end it was so sad and you know what they say if you cry at a film it must have been good and this definitely was also <UNK> to the two little boy's that played the <UNK> of norman and paul they were just brilliant children are often left out of the <UNK> list i think because the stars that play them all grown up are such a big profile for the whole film but these children are amazing and should be praised for what they have done don't you think the whole story was so lovely because it was true and was someone's life after all that was shared with us all\""
      ]
     },
     "execution_count": 7,
     "metadata": {},
     "output_type": "execute_result"
    }
   ],
   "source": [
    "decode_review(train_data[0])"
   ]
  },
  {
   "cell_type": "markdown",
   "metadata": {},
   "source": [
    "# Prepare the data"
   ]
  },
  {
   "cell_type": "code",
   "execution_count": 8,
   "metadata": {},
   "outputs": [],
   "source": [
    "train_data = keras.preprocessing.sequence.pad_sequences(train_data,\n",
    "                                                       value=word_index[\"<PAD>\"],\n",
    "                                                       padding='post',\n",
    "                                                       maxlen=256)\n",
    "test_data = keras.preprocessing.sequence.pad_sequences(test_data,\n",
    "                                                       value=word_index[\"<PAD>\"],\n",
    "                                                       padding='post',\n",
    "                                                       maxlen=256)"
   ]
  },
  {
   "cell_type": "code",
   "execution_count": 9,
   "metadata": {},
   "outputs": [
    {
     "data": {
      "text/plain": [
       "(256, 256)"
      ]
     },
     "execution_count": 9,
     "metadata": {},
     "output_type": "execute_result"
    }
   ],
   "source": [
    "len(train_data[0]), len(train_data[1])"
   ]
  },
  {
   "cell_type": "code",
   "execution_count": 10,
   "metadata": {},
   "outputs": [
    {
     "name": "stdout",
     "output_type": "stream",
     "text": [
      "[   1   14   22   16   43  530  973 1622 1385   65  458 4468   66 3941\n",
      "    4  173   36  256    5   25  100   43  838  112   50  670    2    9\n",
      "   35  480  284    5  150    4  172  112  167    2  336  385   39    4\n",
      "  172 4536 1111   17  546   38   13  447    4  192   50   16    6  147\n",
      " 2025   19   14   22    4 1920 4613  469    4   22   71   87   12   16\n",
      "   43  530   38   76   15   13 1247    4   22   17  515   17   12   16\n",
      "  626   18    2    5   62  386   12    8  316    8  106    5    4 2223\n",
      " 5244   16  480   66 3785   33    4  130   12   16   38  619    5   25\n",
      "  124   51   36  135   48   25 1415   33    6   22   12  215   28   77\n",
      "   52    5   14  407   16   82    2    8    4  107  117 5952   15  256\n",
      "    4    2    7 3766    5  723   36   71   43  530  476   26  400  317\n",
      "   46    7    4    2 1029   13  104   88    4  381   15  297   98   32\n",
      " 2071   56   26  141    6  194 7486   18    4  226   22   21  134  476\n",
      "   26  480    5  144   30 5535   18   51   36   28  224   92   25  104\n",
      "    4  226   65   16   38 1334   88   12   16  283    5   16 4472  113\n",
      "  103   32   15   16 5345   19  178   32    0    0    0    0    0    0\n",
      "    0    0    0    0    0    0    0    0    0    0    0    0    0    0\n",
      "    0    0    0    0    0    0    0    0    0    0    0    0    0    0\n",
      "    0    0    0    0]\n"
     ]
    }
   ],
   "source": [
    "print(train_data[0])"
   ]
  },
  {
   "cell_type": "markdown",
   "metadata": {},
   "source": [
    "# Build the model"
   ]
  },
  {
   "cell_type": "code",
   "execution_count": 11,
   "metadata": {},
   "outputs": [
    {
     "name": "stderr",
     "output_type": "stream",
     "text": [
      "W0808 00:07:22.957319  8392 deprecation.py:506] From C:\\Users\\nguyen.pv162992\\AppData\\Local\\Continuum\\anaconda3\\lib\\site-packages\\tensorflow_core\\python\\keras\\initializers.py:119: calling RandomUniform.__init__ (from tensorflow.python.ops.init_ops) with dtype is deprecated and will be removed in a future version.\n",
      "Instructions for updating:\n",
      "Call initializer instance with the dtype argument instead of passing it to the constructor\n",
      "W0808 00:07:22.996232  8392 deprecation.py:506] From C:\\Users\\nguyen.pv162992\\AppData\\Local\\Continuum\\anaconda3\\lib\\site-packages\\tensorflow_core\\python\\ops\\resource_variable_ops.py:1633: calling BaseResourceVariable.__init__ (from tensorflow.python.ops.resource_variable_ops) with constraint is deprecated and will be removed in a future version.\n",
      "Instructions for updating:\n",
      "If using Keras pass *_constraint arguments to layers.\n"
     ]
    },
    {
     "name": "stdout",
     "output_type": "stream",
     "text": [
      "Model: \"sequential\"\n",
      "_________________________________________________________________\n",
      "Layer (type)                 Output Shape              Param #   \n",
      "=================================================================\n",
      "embedding (Embedding)        (None, None, 16)          160000    \n",
      "_________________________________________________________________\n",
      "global_average_pooling1d (Gl (None, 16)                0         \n",
      "_________________________________________________________________\n",
      "dense (Dense)                (None, 16)                272       \n",
      "_________________________________________________________________\n",
      "dense_1 (Dense)              (None, 1)                 17        \n",
      "=================================================================\n",
      "Total params: 160,289\n",
      "Trainable params: 160,289\n",
      "Non-trainable params: 0\n",
      "_________________________________________________________________\n"
     ]
    }
   ],
   "source": [
    "# input shape is the vocabulary count used for the movie reviews (10,000 words)\n",
    "vocab_size = 10000\n",
    "\n",
    "model = keras.Sequential()\n",
    "model.add(keras.layers.Embedding(vocab_size, 16))\n",
    "model.add(keras.layers.GlobalAveragePooling1D())\n",
    "model.add(keras.layers.Dense(16, activation=tf.nn.relu))\n",
    "model.add(keras.layers.Dense(1, activation=tf.nn.sigmoid))\n",
    "\n",
    "model.summary()"
   ]
  },
  {
   "cell_type": "code",
   "execution_count": 12,
   "metadata": {},
   "outputs": [
    {
     "name": "stderr",
     "output_type": "stream",
     "text": [
      "W0808 00:07:26.235193  8392 deprecation.py:323] From C:\\Users\\nguyen.pv162992\\AppData\\Local\\Continuum\\anaconda3\\lib\\site-packages\\tensorflow_core\\python\\ops\\nn_impl.py:183: where (from tensorflow.python.ops.array_ops) is deprecated and will be removed in a future version.\n",
      "Instructions for updating:\n",
      "Use tf.where in 2.0, which has the same broadcast rule as np.where\n"
     ]
    }
   ],
   "source": [
    "model.compile(optimizer='adam',\n",
    "              loss='binary_crossentropy',\n",
    "              metrics=['acc'])"
   ]
  },
  {
   "cell_type": "markdown",
   "metadata": {},
   "source": [
    "# Create a validation set"
   ]
  },
  {
   "cell_type": "code",
   "execution_count": 13,
   "metadata": {},
   "outputs": [],
   "source": [
    "x_val = train_data[:10000]\n",
    "partial_x_train = train_data[10000:]\n",
    "\n",
    "y_val = train_labels[:10000]\n",
    "partial_y_train = train_labels[10000:]"
   ]
  },
  {
   "cell_type": "markdown",
   "metadata": {},
   "source": [
    "# Train the model"
   ]
  },
  {
   "cell_type": "code",
   "execution_count": 14,
   "metadata": {},
   "outputs": [
    {
     "name": "stderr",
     "output_type": "stream",
     "text": [
      "W0808 00:07:33.011279  8392 deprecation.py:323] From C:\\Users\\nguyen.pv162992\\AppData\\Local\\Continuum\\anaconda3\\lib\\site-packages\\tensorflow_core\\python\\keras\\optimizer_v2\\optimizer_v2.py:457: BaseResourceVariable.constraint (from tensorflow.python.ops.resource_variable_ops) is deprecated and will be removed in a future version.\n",
      "Instructions for updating:\n",
      "Apply a constraint manually following the optimizer update step.\n"
     ]
    },
    {
     "name": "stdout",
     "output_type": "stream",
     "text": [
      "Train on 15000 samples, validate on 10000 samples\n",
      "Epoch 1/40\n",
      "15000/15000 [==============================] - 1s 87us/sample - loss: 0.6922 - acc: 0.5860 - val_loss: 0.6907 - val_acc: 0.6603\n",
      "Epoch 2/40\n",
      "15000/15000 [==============================] - 1s 77us/sample - loss: 0.6879 - acc: 0.7073 - val_loss: 0.6845 - val_acc: 0.7435\n",
      "Epoch 3/40\n",
      "15000/15000 [==============================] - 1s 76us/sample - loss: 0.6781 - acc: 0.7499 - val_loss: 0.6718 - val_acc: 0.7388\n",
      "Epoch 4/40\n",
      "15000/15000 [==============================] - 1s 76us/sample - loss: 0.6601 - acc: 0.7563 - val_loss: 0.6506 - val_acc: 0.7422\n",
      "Epoch 5/40\n",
      "15000/15000 [==============================] - 1s 79us/sample - loss: 0.6319 - acc: 0.7823 - val_loss: 0.6201 - val_acc: 0.7691\n",
      "Epoch 6/40\n",
      "15000/15000 [==============================] - 1s 87us/sample - loss: 0.5934 - acc: 0.8017 - val_loss: 0.5812 - val_acc: 0.7954\n",
      "Epoch 7/40\n",
      "15000/15000 [==============================] - 1s 75us/sample - loss: 0.5476 - acc: 0.8191 - val_loss: 0.5374 - val_acc: 0.8097\n",
      "Epoch 8/40\n",
      "15000/15000 [==============================] - 1s 76us/sample - loss: 0.4998 - acc: 0.8375 - val_loss: 0.4952 - val_acc: 0.8260\n",
      "Epoch 9/40\n",
      "15000/15000 [==============================] - 1s 77us/sample - loss: 0.4541 - acc: 0.8531 - val_loss: 0.4562 - val_acc: 0.8387\n",
      "Epoch 10/40\n",
      "15000/15000 [==============================] - 1s 76us/sample - loss: 0.4131 - acc: 0.8660 - val_loss: 0.4233 - val_acc: 0.8472\n",
      "Epoch 11/40\n",
      "15000/15000 [==============================] - 1s 75us/sample - loss: 0.3781 - acc: 0.8762 - val_loss: 0.3961 - val_acc: 0.8549\n",
      "Epoch 12/40\n",
      "15000/15000 [==============================] - 1s 79us/sample - loss: 0.3486 - acc: 0.8853 - val_loss: 0.3751 - val_acc: 0.8585\n",
      "Epoch 13/40\n",
      "15000/15000 [==============================] - 1s 78us/sample - loss: 0.3247 - acc: 0.8915 - val_loss: 0.3566 - val_acc: 0.8661\n",
      "Epoch 14/40\n",
      "15000/15000 [==============================] - 1s 78us/sample - loss: 0.3034 - acc: 0.8965 - val_loss: 0.3432 - val_acc: 0.8686\n",
      "Epoch 15/40\n",
      "15000/15000 [==============================] - 1s 76us/sample - loss: 0.2857 - acc: 0.9010 - val_loss: 0.3320 - val_acc: 0.8719\n",
      "Epoch 16/40\n",
      "15000/15000 [==============================] - 1s 75us/sample - loss: 0.2699 - acc: 0.9067 - val_loss: 0.3227 - val_acc: 0.8734\n",
      "Epoch 17/40\n",
      "15000/15000 [==============================] - 1s 76us/sample - loss: 0.2554 - acc: 0.9111 - val_loss: 0.3151 - val_acc: 0.8765\n",
      "Epoch 18/40\n",
      "15000/15000 [==============================] - 1s 79us/sample - loss: 0.2427 - acc: 0.9160 - val_loss: 0.3084 - val_acc: 0.8794\n",
      "Epoch 19/40\n",
      "15000/15000 [==============================] - 1s 83us/sample - loss: 0.2312 - acc: 0.9198 - val_loss: 0.3028 - val_acc: 0.8796\n",
      "Epoch 20/40\n",
      "15000/15000 [==============================] - 1s 85us/sample - loss: 0.2208 - acc: 0.9233 - val_loss: 0.2990 - val_acc: 0.8813\n",
      "Epoch 21/40\n",
      "15000/15000 [==============================] - 1s 77us/sample - loss: 0.2104 - acc: 0.9283 - val_loss: 0.2956 - val_acc: 0.8819\n",
      "Epoch 22/40\n",
      "15000/15000 [==============================] - 1s 78us/sample - loss: 0.2016 - acc: 0.9301 - val_loss: 0.2924 - val_acc: 0.8828\n",
      "Epoch 23/40\n",
      "15000/15000 [==============================] - 1s 79us/sample - loss: 0.1928 - acc: 0.9341 - val_loss: 0.2909 - val_acc: 0.8836\n",
      "Epoch 24/40\n",
      "15000/15000 [==============================] - 1s 76us/sample - loss: 0.1851 - acc: 0.9379 - val_loss: 0.2888 - val_acc: 0.8847\n",
      "Epoch 25/40\n",
      "15000/15000 [==============================] - 1s 78us/sample - loss: 0.1773 - acc: 0.9425 - val_loss: 0.2869 - val_acc: 0.8844\n",
      "Epoch 26/40\n",
      "15000/15000 [==============================] - 1s 77us/sample - loss: 0.1703 - acc: 0.9453 - val_loss: 0.2871 - val_acc: 0.8842\n",
      "Epoch 27/40\n",
      "15000/15000 [==============================] - 1s 79us/sample - loss: 0.1637 - acc: 0.9476 - val_loss: 0.2861 - val_acc: 0.8841\n",
      "Epoch 28/40\n",
      "15000/15000 [==============================] - 1s 76us/sample - loss: 0.1573 - acc: 0.9511 - val_loss: 0.2861 - val_acc: 0.8854\n",
      "Epoch 29/40\n",
      "15000/15000 [==============================] - 1s 79us/sample - loss: 0.1518 - acc: 0.9533 - val_loss: 0.2873 - val_acc: 0.8839\n",
      "Epoch 30/40\n",
      "15000/15000 [==============================] - 1s 77us/sample - loss: 0.1460 - acc: 0.9549 - val_loss: 0.2863 - val_acc: 0.8854\n",
      "Epoch 31/40\n",
      "15000/15000 [==============================] - 1s 76us/sample - loss: 0.1401 - acc: 0.9587 - val_loss: 0.2870 - val_acc: 0.8862\n",
      "Epoch 32/40\n",
      "15000/15000 [==============================] - 1s 78us/sample - loss: 0.1348 - acc: 0.9593 - val_loss: 0.2881 - val_acc: 0.8860\n",
      "Epoch 33/40\n",
      "15000/15000 [==============================] - 1s 92us/sample - loss: 0.1296 - acc: 0.9617 - val_loss: 0.2900 - val_acc: 0.8858\n",
      "Epoch 34/40\n",
      "15000/15000 [==============================] - 1s 80us/sample - loss: 0.1251 - acc: 0.9639 - val_loss: 0.2916 - val_acc: 0.8861\n",
      "Epoch 35/40\n",
      "15000/15000 [==============================] - 1s 76us/sample - loss: 0.1209 - acc: 0.9643 - val_loss: 0.2935 - val_acc: 0.8864\n",
      "Epoch 36/40\n",
      "15000/15000 [==============================] - 1s 78us/sample - loss: 0.1162 - acc: 0.9671 - val_loss: 0.2951 - val_acc: 0.8850\n",
      "Epoch 37/40\n",
      "15000/15000 [==============================] - 1s 78us/sample - loss: 0.1118 - acc: 0.9683 - val_loss: 0.2974 - val_acc: 0.8853\n",
      "Epoch 38/40\n",
      "15000/15000 [==============================] - 1s 78us/sample - loss: 0.1077 - acc: 0.9698 - val_loss: 0.3005 - val_acc: 0.8833\n",
      "Epoch 39/40\n",
      "15000/15000 [==============================] - 1s 78us/sample - loss: 0.1045 - acc: 0.9705 - val_loss: 0.3034 - val_acc: 0.8829\n",
      "Epoch 40/40\n",
      "15000/15000 [==============================] - 1s 78us/sample - loss: 0.1003 - acc: 0.9729 - val_loss: 0.3058 - val_acc: 0.8838\n"
     ]
    }
   ],
   "source": [
    "history = model.fit(partial_x_train,\n",
    "                    partial_y_train,\n",
    "                    epochs=40,\n",
    "                    batch_size=512,\n",
    "                    validation_data=(x_val, y_val),\n",
    "                    verbose=1)"
   ]
  },
  {
   "cell_type": "code",
   "execution_count": 15,
   "metadata": {},
   "outputs": [
    {
     "name": "stdout",
     "output_type": "stream",
     "text": [
      "25000/25000 [==============================] - 1s 33us/sample - loss: 0.3260 - acc: 0.8724\n",
      "[0.3260482914447784, 0.87244]\n"
     ]
    }
   ],
   "source": [
    "results = model.evaluate(test_data, test_labels)\n",
    "\n",
    "print(results)"
   ]
  },
  {
   "cell_type": "markdown",
   "metadata": {},
   "source": [
    "# Create a graph of accuracy and loss over time"
   ]
  },
  {
   "cell_type": "code",
   "execution_count": 16,
   "metadata": {},
   "outputs": [
    {
     "data": {
      "text/plain": [
       "dict_keys(['loss', 'acc', 'val_loss', 'val_acc'])"
      ]
     },
     "execution_count": 16,
     "metadata": {},
     "output_type": "execute_result"
    }
   ],
   "source": [
    "history_dict = history.history\n",
    "history_dict.keys()"
   ]
  },
  {
   "cell_type": "code",
   "execution_count": 17,
   "metadata": {},
   "outputs": [
    {
     "data": {
      "text/plain": [
       "<Figure size 640x480 with 1 Axes>"
      ]
     },
     "metadata": {},
     "output_type": "display_data"
    }
   ],
   "source": [
    "import matplotlib.pyplot as plt\n",
    "\n",
    "acc = history_dict['acc']\n",
    "val_acc = history_dict['val_acc']\n",
    "loss = history_dict['loss']\n",
    "val_loss = history_dict['val_loss']\n",
    "\n",
    "epochs = range(1, len(acc) + 1)\n",
    "\n",
    "# \"bo\" is for \"blue dot\"\n",
    "plt.plot(epochs, loss, 'bo', label='Training loss')\n",
    "# b is for \"solid blue line\"\n",
    "plt.plot(epochs, val_loss, 'b', label='Validation loss')\n",
    "plt.title('Training and validation loss')\n",
    "plt.xlabel('Epochs')\n",
    "plt.ylabel('Loss')\n",
    "plt.legend()\n",
    "\n",
    "plt.show()"
   ]
  },
  {
   "cell_type": "code",
   "execution_count": 18,
   "metadata": {},
   "outputs": [
    {
     "data": {
      "image/png": "[encoded data removed]",
      "text/plain": [
       "<Figure size 432x288 with 1 Axes>"
      ]
     },
     "metadata": {
      "needs_background": "light"
     },
     "output_type": "display_data"
    }
   ],
   "source": [
    "plt.clf()   # clear figure\n",
    "\n",
    "plt.plot(epochs, acc, 'bo', label='Training acc')\n",
    "plt.plot(epochs, val_acc, 'b', label='Validation acc')\n",
    "plt.title('Training and validation accuracy')\n",
    "plt.xlabel('Epochs')\n",
    "plt.ylabel('Accuracy')\n",
    "plt.legend()\n",
    "\n",
    "plt.show()"
   ]
  },
  {
   "cell_type": "code",
   "execution_count": null,
   "metadata": {},
   "outputs": [],
   "source": []
  }
 ],
 "metadata": {
  "kernelspec": {
   "display_name": "Python 3",
   "language": "python",
   "name": "python3"
  },
  "language_info": {
   "codemirror_mode": {
    "name": "ipython",
    "version": 3
   },
   "file_extension": ".py",
   "mimetype": "text/x-python",
   "name": "python",
   "nbconvert_exporter": "python",
   "pygments_lexer": "ipython3",
   "version": "3.7.3"
  }
 },
 "nbformat": 4,
 "nbformat_minor": 2
}
