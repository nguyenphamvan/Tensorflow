{
 "cells": [
  {
   "cell_type": "code",
   "execution_count": 1,
   "metadata": {},
   "outputs": [],
   "source": [
    "from __future__ import absolute_import, division, print_function, unicode_literals\n",
    "\n",
    "import tensorflow as tf\n",
    "\n",
    "tf.enable_eager_execution()"
   ]
  },
  {
   "cell_type": "code",
   "execution_count": 2,
   "metadata": {},
   "outputs": [],
   "source": [
    "import numpy as np"
   ]
  },
  {
   "cell_type": "code",
   "execution_count": 3,
   "metadata": {},
   "outputs": [
    {
     "name": "stdout",
     "output_type": "stream",
     "text": [
      "[[0.83218643 0.77541067]\n",
      " [0.76997511 0.46876785]\n",
      " [0.96581968 0.67825979]\n",
      " ...\n",
      " [0.63124273 0.28513545]\n",
      " [0.923342   0.0386201 ]\n",
      " [0.99234342 0.56205141]]\n"
     ]
    }
   ],
   "source": [
    "X_data = np.random.random((10000,2))\n",
    "print(X_data)"
   ]
  },
  {
   "cell_type": "code",
   "execution_count": 4,
   "metadata": {},
   "outputs": [],
   "source": [
    "sample_weights = np.array([[3,4]])"
   ]
  },
  {
   "cell_type": "code",
   "execution_count": 5,
   "metadata": {},
   "outputs": [
    {
     "name": "stdout",
     "output_type": "stream",
     "text": [
      "[[5.59820198]\n",
      " [4.18499676]\n",
      " [5.61049823]\n",
      " ...\n",
      " [3.03426999]\n",
      " [2.9245064 ]\n",
      " [5.22523591]]\n",
      "(10000, 1)\n"
     ]
    }
   ],
   "source": [
    "y_data = np.matmul(X_data, sample_weights.transpose())\n",
    "print(y_data)\n",
    "print(y_data.shape)"
   ]
  },
  {
   "cell_type": "code",
   "execution_count": 6,
   "metadata": {},
   "outputs": [],
   "source": [
    "# Add noise to data\n",
    "y_data = np.add(y_data, np.random.uniform(-0.5,0.5))"
   ]
  },
  {
   "cell_type": "code",
   "execution_count": 7,
   "metadata": {},
   "outputs": [
    {
     "data": {
      "text/plain": [
       "array([[5.51015245],\n",
       "       [4.09694723],\n",
       "       [5.5224487 ],\n",
       "       ...,\n",
       "       [2.94622046],\n",
       "       [2.83645687],\n",
       "       [5.13718638]])"
      ]
     },
     "execution_count": 7,
     "metadata": {},
     "output_type": "execute_result"
    }
   ],
   "source": [
    "y_data"
   ]
  },
  {
   "cell_type": "code",
   "execution_count": 8,
   "metadata": {},
   "outputs": [],
   "source": [
    "# split data to traning and testing\n",
    "from sklearn.model_selection import train_test_split\n",
    "X_train, X_test, y_train, y_test = train_test_split(X_data, y_data, test_size=0.2)"
   ]
  },
  {
   "cell_type": "code",
   "execution_count": 9,
   "metadata": {},
   "outputs": [
    {
     "name": "stdout",
     "output_type": "stream",
     "text": [
      "(8000, 2)\n"
     ]
    }
   ],
   "source": [
    "# X_train shape\n",
    "print(X_train.shape)"
   ]
  },
  {
   "cell_type": "code",
   "execution_count": 10,
   "metadata": {},
   "outputs": [
    {
     "name": "stdout",
     "output_type": "stream",
     "text": [
      "(8000, 1)\n"
     ]
    }
   ],
   "source": [
    "# y_train shape\n",
    "print(y_train.shape)"
   ]
  },
  {
   "cell_type": "code",
   "execution_count": 11,
   "metadata": {},
   "outputs": [
    {
     "name": "stdout",
     "output_type": "stream",
     "text": [
      "\n",
      "WARNING: The TensorFlow contrib module will not be included in TensorFlow 2.0.\n",
      "For more information, please see:\n",
      "  * https://github.com/tensorflow/community/blob/master/rfcs/20180907-contrib-sunset.md\n",
      "  * https://github.com/tensorflow/addons\n",
      "If you depend on functionality not listed there, please file an issue.\n",
      "\n"
     ]
    }
   ],
   "source": [
    "tfe = tf.contrib.eager"
   ]
  },
  {
   "cell_type": "code",
   "execution_count": 12,
   "metadata": {},
   "outputs": [],
   "source": [
    "# khai bao bien\n",
    "\n",
    "W = tfe.Variable([[1.0, 1.0]])\n",
    "b = tfe.Variable(np.random.uniform(-0.2,0.2))"
   ]
  },
  {
   "cell_type": "code",
   "execution_count": 13,
   "metadata": {},
   "outputs": [],
   "source": [
    "# Linear Regression\n",
    "def linear_regression(inputs):\n",
    "    return tf.matmul(inputs, W, transpose_b=True)"
   ]
  },
  {
   "cell_type": "code",
   "execution_count": 14,
   "metadata": {},
   "outputs": [],
   "source": [
    "# Loss function mean square error\n",
    "def loss_function(model_fn, inputs, labels):\n",
    "    return tf.reduce_mean(tf.square(model_fn(inputs) - labels))"
   ]
  },
  {
   "cell_type": "code",
   "execution_count": 15,
   "metadata": {},
   "outputs": [],
   "source": [
    "# Parameter\n",
    "learning_rate = 0.002\n",
    "num_steps = 10000"
   ]
  },
  {
   "cell_type": "code",
   "execution_count": 16,
   "metadata": {},
   "outputs": [],
   "source": [
    "# Optimizer\n",
    "\n",
    "optimizer = tf.train.GradientDescentOptimizer(learning_rate= learning_rate)\n",
    "\n",
    "# Caculate gradient\n",
    "grad = tfe.implicit_gradients(loss_function)"
   ]
  },
  {
   "cell_type": "code",
   "execution_count": 17,
   "metadata": {},
   "outputs": [
    {
     "name": "stdout",
     "output_type": "stream",
     "text": [
      "WARNING:tensorflow:From C:\\Users\\nguyen.pv162992\\AppData\\Local\\Continuum\\anaconda3\\lib\\site-packages\\tensorflow\\python\\training\\optimizer.py:611: colocate_with (from tensorflow.python.framework.ops) is deprecated and will be removed in a future version.\n",
      "Instructions for updating:\n",
      "Colocations handled automatically by placer.\n",
      "Step 0 train loss = 6.711505889892578 test lost = 6.851039886474609\n",
      "Step 100 train loss = 4.258688449859619 test lost = 4.349401473999023\n",
      "Step 200 train loss = 2.706514835357666 test lost = 2.7658002376556396\n",
      "Step 300 train loss = 1.7240228652954102 test lost = 1.7630056142807007\n",
      "Step 400 train loss = 1.1018844842910767 test lost = 1.1276962757110596\n",
      "Step 500 train loss = 0.7077040076255798 test lost = 0.7249278426170349\n",
      "Step 600 train loss = 0.45774394273757935 test lost = 0.46933576464653015\n",
      "Step 700 train loss = 0.2990405261516571 test lost = 0.30691394209861755\n",
      "Step 800 train loss = 0.19809143245220184 test lost = 0.2034910023212433\n",
      "Step 900 train loss = 0.1337074339389801 test lost = 0.13744698464870453\n",
      "Step 1000 train loss = 0.09248220175504684 test lost = 0.09509721398353577\n",
      "Step 1100 train loss = 0.06593621522188187 test lost = 0.0677814781665802\n",
      "Step 1200 train loss = 0.04870377108454704 test lost = 0.050016216933727264\n",
      "Step 1300 train loss = 0.03739021345973015 test lost = 0.038329530507326126\n",
      "Step 1400 train loss = 0.029846081510186195 test lost = 0.030520914122462273\n",
      "Step 1500 train loss = 0.024710191413760185 test lost = 0.02519521489739418\n",
      "Step 1600 train loss = 0.021121015772223473 test lost = 0.021468162536621094\n",
      "Step 1700 train loss = 0.018531112000346184 test lost = 0.01877688616514206\n",
      "Step 1800 train loss = 0.01659359037876129 test lost = 0.01676398329436779\n",
      "Step 1900 train loss = 0.015087252482771873 test lost = 0.01520095020532608\n",
      "Step 2000 train loss = 0.013871404342353344 test lost = 0.013942032121121883\n",
      "Step 2100 train loss = 0.012855890206992626 test lost = 0.012893496081233025\n",
      "Step 2200 train loss = 0.011982610449194908 test lost = 0.011994658038020134\n",
      "Step 2300 train loss = 0.01121377944946289 test lost = 0.011205917224287987\n",
      "Step 2400 train loss = 0.01052466593682766 test lost = 0.010501163080334663\n",
      "Step 2500 train loss = 0.009898685850203037 test lost = 0.009862841106951237\n",
      "Step 2600 train loss = 0.009324642829596996 test lost = 0.009278999641537666\n",
      "Step 2700 train loss = 0.008794658817350864 test lost = 0.0087412279099226\n",
      "Step 2800 train loss = 0.008303222246468067 test lost = 0.008243555203080177\n",
      "Step 2900 train loss = 0.007845805026590824 test lost = 0.0077811661176383495\n",
      "Step 3000 train loss = 0.007419121917337179 test lost = 0.0073505244217813015\n",
      "Step 3100 train loss = 0.007020586635917425 test lost = 0.006948838941752911\n",
      "Step 3200 train loss = 0.006647920235991478 test lost = 0.006573681719601154\n",
      "Step 3300 train loss = 0.006299225613474846 test lost = 0.006223038770258427\n",
      "Step 3400 train loss = 0.005972789600491524 test lost = 0.0058951061218976974\n",
      "Step 3500 train loss = 0.005667081102728844 test lost = 0.005588273052126169\n",
      "Step 3600 train loss = 0.005380774382501841 test lost = 0.005301154218614101\n",
      "Step 3700 train loss = 0.00511256093159318 test lost = 0.005032391287386417\n",
      "Step 3800 train loss = 0.004861266352236271 test lost = 0.004780772607773542\n",
      "Step 3900 train loss = 0.004625841975212097 test lost = 0.004545213654637337\n",
      "Step 4000 train loss = 0.004405258223414421 test lost = 0.004324659239500761\n",
      "Step 4100 train loss = 0.004198584705591202 test lost = 0.00411815382540226\n",
      "Step 4200 train loss = 0.004004906862974167 test lost = 0.003924766089767218\n",
      "Step 4300 train loss = 0.003823433769866824 test lost = 0.0037436867132782936\n",
      "Step 4400 train loss = 0.0036533870734274387 test lost = 0.0035741261672228575\n",
      "Step 4500 train loss = 0.0034940459299832582 test lost = 0.0034153463784605265\n",
      "Step 4600 train loss = 0.0033447316382080317 test lost = 0.0032666621264070272\n",
      "Step 4700 train loss = 0.003204829292371869 test lost = 0.003127447562292218\n",
      "Step 4800 train loss = 0.0030737309716641903 test lost = 0.002997088013216853\n",
      "Step 4900 train loss = 0.0029508767183870077 test lost = 0.0028750128112733364\n",
      "Step 5000 train loss = 0.0028357473202049732 test lost = 0.0027606994844973087\n",
      "Step 5100 train loss = 0.0027278896886855364 test lost = 0.002653691451996565\n",
      "Step 5200 train loss = 0.0026267939247190952 test lost = 0.0025534701999276876\n",
      "Step 5300 train loss = 0.002532079117372632 test lost = 0.0024596485309302807\n",
      "Step 5400 train loss = 0.0024433222133666277 test lost = 0.002371804788708687\n",
      "Step 5500 train loss = 0.0023601509165018797 test lost = 0.002289558295160532\n",
      "Step 5600 train loss = 0.002282219473272562 test lost = 0.0022125616669654846\n",
      "Step 5700 train loss = 0.0022091709543019533 test lost = 0.0021404577419161797\n",
      "Step 5800 train loss = 0.0021407578606158495 test lost = 0.0020729913376271725\n",
      "Step 5900 train loss = 0.0020766162779182196 test lost = 0.0020097994711250067\n",
      "Step 6000 train loss = 0.0020165422465652227 test lost = 0.0019506748067215085\n",
      "Step 6100 train loss = 0.001960239140316844 test lost = 0.0018953190883621573\n",
      "Step 6200 train loss = 0.0019074708689004183 test lost = 0.0018434933153912425\n",
      "Step 6300 train loss = 0.001858028583228588 test lost = 0.0017949888715520501\n",
      "Step 6400 train loss = 0.0018117042491212487 test lost = 0.0017495960928499699\n",
      "Step 6500 train loss = 0.0017682971665635705 test lost = 0.0017071139300242066\n",
      "Step 6600 train loss = 0.0017276129219681025 test lost = 0.0016673445934429765\n",
      "Step 6700 train loss = 0.0016895036678761244 test lost = 0.0016301375580951571\n",
      "Step 6800 train loss = 0.0016537817427888513 test lost = 0.0015953091206029058\n",
      "Step 6900 train loss = 0.001620318740606308 test lost = 0.0015627277316525578\n",
      "Step 7000 train loss = 0.0015889465576037765 test lost = 0.0015322238905355334\n",
      "Step 7100 train loss = 0.0015595615841448307 test lost = 0.0015036948025226593\n",
      "Step 7200 train loss = 0.0015320280799642205 test lost = 0.0014770018169656396\n",
      "Step 7300 train loss = 0.0015062203165143728 test lost = 0.0014520225813612342\n",
      "Step 7400 train loss = 0.0014820342184975743 test lost = 0.0014286494115367532\n",
      "Step 7500 train loss = 0.0014593712985515594 test lost = 0.001406785799190402\n",
      "Step 7600 train loss = 0.001438140170648694 test lost = 0.00138633802998811\n",
      "Step 7700 train loss = 0.0014182470040395856 test lost = 0.0013672140194103122\n",
      "Step 7800 train loss = 0.0013996078632771969 test lost = 0.0013493269216269255\n",
      "Step 7900 train loss = 0.001382137299515307 test lost = 0.0013325951294973493\n",
      "Step 8000 train loss = 0.00136575719807297 test lost = 0.0013169387821108103\n",
      "Step 8100 train loss = 0.0013504103990271688 test lost = 0.0013022975763306022\n",
      "Step 8200 train loss = 0.0013360489392653108 test lost = 0.0012886275071650743\n",
      "Step 8300 train loss = 0.0013225676957517862 test lost = 0.0012758240336552262\n",
      "Step 8400 train loss = 0.0013099575880914927 test lost = 0.001263872836716473\n",
      "Step 8500 train loss = 0.001298119081184268 test lost = 0.0012526826467365026\n",
      "Step 8600 train loss = 0.0012870486825704575 test lost = 0.0012422404251992702\n",
      "Step 8700 train loss = 0.0012766544241458178 test lost = 0.0012324622366577387\n",
      "Step 8800 train loss = 0.0012669306015595794 test lost = 0.0012233384186401963\n",
      "Step 8900 train loss = 0.0012578143505379558 test lost = 0.0012148075038567185\n",
      "Step 9000 train loss = 0.001249263295903802 test lost = 0.0012068274663761258\n",
      "Step 9100 train loss = 0.0012412593932822347 test lost = 0.0011993827065452933\n",
      "Step 9200 train loss = 0.0012337592197582126 test lost = 0.0011924257269129157\n",
      "Step 9300 train loss = 0.0012267334386706352 test lost = 0.0011859276564791799\n",
      "Step 9400 train loss = 0.00122014619410038 test lost = 0.0011798548512160778\n",
      "Step 9500 train loss = 0.0012139729224145412 test lost = 0.0011741836788132787\n",
      "Step 9600 train loss = 0.00120818754658103 test lost = 0.0011688872473314404\n",
      "Step 9700 train loss = 0.0012027680641040206 test lost = 0.0011639428557828069\n",
      "Step 9800 train loss = 0.0011976887471973896 test lost = 0.0011593278031796217\n",
      "Step 9900 train loss = 0.0011929302709177136 test lost = 0.0011550197377800941\n"
     ]
    }
   ],
   "source": [
    "# Training model\n",
    "for step in range(num_steps):\n",
    "    optimizer.apply_gradients(grad(linear_regression, np.float32(X_train), np.float32(y_train)))\n",
    "    \n",
    "    if step % 100 == 0:\n",
    "        train_loss = loss_function(linear_regression,np.float32(X_train), np.float32(y_train))\n",
    "        test_loss = loss_function(linear_regression,np.float32(X_test), np.float32(y_test))\n",
    "        print(\"Step {} train loss = {} test lost = {}\".format(step,train_loss,test_loss))"
   ]
  },
  {
   "cell_type": "code",
   "execution_count": 18,
   "metadata": {},
   "outputs": [
    {
     "data": {
      "text/plain": [
       "array([[2.9429798, 3.904418 ]], dtype=float32)"
      ]
     },
     "execution_count": 18,
     "metadata": {},
     "output_type": "execute_result"
    }
   ],
   "source": [
    "W.numpy()"
   ]
  },
  {
   "cell_type": "code",
   "execution_count": 19,
   "metadata": {},
   "outputs": [
    {
     "data": {
      "text/plain": [
       "-0.077955596"
      ]
     },
     "execution_count": 19,
     "metadata": {},
     "output_type": "execute_result"
    }
   ],
   "source": [
    "b.numpy()"
   ]
  },
  {
   "cell_type": "code",
   "execution_count": 20,
   "metadata": {},
   "outputs": [],
   "source": [
    "y_pred = linear_regression(np.float32(X_test))"
   ]
  },
  {
   "cell_type": "code",
   "execution_count": 21,
   "metadata": {},
   "outputs": [
    {
     "data": {
      "text/plain": [
       "<tf.Tensor: id=221822, shape=(2000, 1), dtype=float32, numpy=\n",
       "array([[4.163293 ],\n",
       "       [2.6663632],\n",
       "       [5.3036027],\n",
       "       ...,\n",
       "       [2.3200119],\n",
       "       [3.9852767],\n",
       "       [2.8799388]], dtype=float32)>"
      ]
     },
     "execution_count": 21,
     "metadata": {},
     "output_type": "execute_result"
    }
   ],
   "source": [
    "y_pred"
   ]
  },
  {
   "cell_type": "code",
   "execution_count": 22,
   "metadata": {},
   "outputs": [
    {
     "data": {
      "text/plain": [
       "array([[4.17439516],\n",
       "       [2.63843097],\n",
       "       [5.33083517],\n",
       "       ...,\n",
       "       [2.27929094],\n",
       "       [3.9907316 ],\n",
       "       [2.86214506]])"
      ]
     },
     "execution_count": 22,
     "metadata": {},
     "output_type": "execute_result"
    }
   ],
   "source": [
    "y_test"
   ]
  },
  {
   "cell_type": "code",
   "execution_count": 23,
   "metadata": {},
   "outputs": [],
   "source": [
    "import matplotlib.pyplot as plt"
   ]
  },
  {
   "cell_type": "code",
   "execution_count": 24,
   "metadata": {},
   "outputs": [
    {
     "data": {
      "text/plain": [
       "[<matplotlib.lines.Line2D at 0x252a02f0358>]"
      ]
     },
     "execution_count": 24,
     "metadata": {},
     "output_type": "execute_result"
    },
    {
     "data": {
      "image/png": "[encoded data removed]",
      "text/plain": [
       "<Figure size 432x288 with 1 Axes>"
      ]
     },
     "metadata": {
      "needs_background": "light"
     },
     "output_type": "display_data"
    }
   ],
   "source": [
    "plt.plot(range(len(y_test[:20])), y_test[:20], 'bo')"
   ]
  },
  {
   "cell_type": "code",
   "execution_count": 26,
   "metadata": {},
   "outputs": [
    {
     "data": {
      "text/plain": [
       "[<matplotlib.lines.Line2D at 0x252a0604470>]"
      ]
     },
     "execution_count": 26,
     "metadata": {},
     "output_type": "execute_result"
    },
    {
     "data": {
      "image/png": "[encoded data removed]",
      "text/plain": [
       "<Figure size 432x288 with 1 Axes>"
      ]
     },
     "metadata": {
      "needs_background": "light"
     },
     "output_type": "display_data"
    }
   ],
   "source": [
    "plt.plot(range(len(y_pred.numpy()[:20])), y_pred.numpy()[:20], 'ro')"
   ]
  },
  {
   "cell_type": "code",
   "execution_count": null,
   "metadata": {},
   "outputs": [],
   "source": []
  }
 ],
 "metadata": {
  "kernelspec": {
   "display_name": "Python 3",
   "language": "python",
   "name": "python3"
  },
  "language_info": {
   "codemirror_mode": {
    "name": "ipython",
    "version": 3
   },
   "file_extension": ".py",
   "mimetype": "text/x-python",
   "name": "python",
   "nbconvert_exporter": "python",
   "pygments_lexer": "ipython3",
   "version": "3.7.3"
  }
 },
 "nbformat": 4,
 "nbformat_minor": 2
}
